{
 "cells": [
  {
   "cell_type": "code",
   "execution_count": 2,
   "id": "9ec3c3df-9cb1-418e-891a-60f7d07674b0",
   "metadata": {},
   "outputs": [],
   "source": [
    "from struct import unpack\n",
    "import scipy.stats as sc\n",
    "import numpy as np\n",
    "import pandas as pd\n",
    "import matplotlib.pylab as plt \n",
    "import plotly.express as px\n",
    "import math\n",
    "import random\n",
    "import pprint\n",
    "\n",
    "# data from: http://yann.lecun.com/exdb/mnist/\n",
    "\n",
    "def loadmnist(imagefile, labelfile):\n",
    "\n",
    "    # Open the images with gzip in read binary mode\n",
    "    images = open(imagefile, 'rb')\n",
    "    labels = open(labelfile, 'rb')\n",
    "\n",
    "    # Get metadata for images\n",
    "    images.read(4)  # skip the magic_number\n",
    "    number_of_images = images.read(4)\n",
    "    number_of_images = unpack('>I', number_of_images)[0]\n",
    "    rows = images.read(4)\n",
    "    rows = unpack('>I', rows)[0]\n",
    "    cols = images.read(4)\n",
    "    cols = unpack('>I', cols)[0]\n",
    "\n",
    "    # Get metadata for labels\n",
    "    labels.read(4)\n",
    "    N = labels.read(4)\n",
    "    N = unpack('>I', N)[0]\n",
    "\n",
    "    # Get data\n",
    "    x = np.zeros((N, rows*cols), dtype=np.uint8)  # Initialize numpy array\n",
    "    y = np.zeros(N, dtype=np.uint8)  # Initialize numpy array\n",
    "    for i in range(N):\n",
    "        for j in range(rows*cols):\n",
    "            tmp_pixel = images.read(1)  # Just a single byte\n",
    "            tmp_pixel = unpack('>B', tmp_pixel)[0]\n",
    "            x[i][j] = tmp_pixel\n",
    "        tmp_label = labels.read(1)\n",
    "        y[i] = unpack('>B', tmp_label)[0]\n",
    "\n",
    "    images.close()\n",
    "    labels.close()\n",
    "    return (x, y)\n",
    "\n",
    "def displaychar(image):\n",
    "    plt.imshow(np.reshape(image, (28,28)), cmap=plt.cm.gray)\n",
    "    plt.axis('off')\n",
    "    plt.show()"
   ]
  },
  {
   "cell_type": "markdown",
   "id": "86b6d047-ae1c-4e98-943b-e7f6c9153d69",
   "metadata": {},
   "source": [
    "#### 4a. Load Data. Test Print"
   ]
  },
  {
   "cell_type": "code",
   "execution_count": 3,
   "id": "bfdd8fe2-eb9f-4fce-acb8-8ca8a446aebf",
   "metadata": {},
   "outputs": [],
   "source": [
    "x,y = loadmnist('train-images.idx3-ubyte','train-labels.idx1-ubyte')"
   ]
  },
  {
   "cell_type": "code",
   "execution_count": 4,
   "id": "7bf1102b-c3d5-406e-8fad-83d25a324444",
   "metadata": {},
   "outputs": [
    {
     "data": {
      "image/png": "[encoded data removed]",
      "text/plain": [
       "<Figure size 432x288 with 1 Axes>"
      ]
     },
     "metadata": {
      "needs_background": "light"
     },
     "output_type": "display_data"
    },
    {
     "name": "stdout",
     "output_type": "stream",
     "text": [
      "5\n"
     ]
    },
    {
     "data": {
      "image/png": "[encoded data removed]",
      "text/plain": [
       "<Figure size 432x288 with 1 Axes>"
      ]
     },
     "metadata": {
      "needs_background": "light"
     },
     "output_type": "display_data"
    },
    {
     "name": "stdout",
     "output_type": "stream",
     "text": [
      "0\n"
     ]
    },
    {
     "data": {
      "image/png": "[encoded data removed]",
      "text/plain": [
       "<Figure size 432x288 with 1 Axes>"
      ]
     },
     "metadata": {
      "needs_background": "light"
     },
     "output_type": "display_data"
    },
    {
     "name": "stdout",
     "output_type": "stream",
     "text": [
      "4\n"
     ]
    },
    {
     "data": {
      "image/png": "[encoded data removed]",
      "text/plain": [
       "<Figure size 432x288 with 1 Axes>"
      ]
     },
     "metadata": {
      "needs_background": "light"
     },
     "output_type": "display_data"
    },
    {
     "name": "stdout",
     "output_type": "stream",
     "text": [
      "1\n"
     ]
    },
    {
     "data": {
      "image/png": "[encoded data removed]",
      "text/plain": [
       "<Figure size 432x288 with 1 Axes>"
      ]
     },
     "metadata": {
      "needs_background": "light"
     },
     "output_type": "display_data"
    },
    {
     "name": "stdout",
     "output_type": "stream",
     "text": [
      "9\n"
     ]
    }
   ],
   "source": [
    "for n in range(5):\n",
    "    displaychar(x[n])\n",
    "    print(y[n])"
   ]
  },
  {
   "cell_type": "markdown",
   "id": "93bea466-04af-4ff3-9a35-a314ba4f5466",
   "metadata": {},
   "source": [
    "#### 4b. Test, Train, and Validation Sets"
   ]
  },
  {
   "cell_type": "code",
   "execution_count": 5,
   "id": "dceb0b46-7ea6-4b55-b8f4-33c24855ec07",
   "metadata": {},
   "outputs": [],
   "source": [
    "test_x, test_y = loadmnist('t10k-images.idx3-ubyte','t10k-labels.idx1-ubyte')"
   ]
  },
  {
   "cell_type": "code",
   "execution_count": 6,
   "id": "a54f7fa9-c9cf-4591-b8fb-27baa60974eb",
   "metadata": {},
   "outputs": [],
   "source": [
    "# If data is already randomly sorted, this *should* be ok:\n",
    "\n",
    "train_x, train_y = x[:50000], y[:50000]\n",
    "val_x, val_y = x[50000:], y[50000:]\n",
    "\n",
    "# visually inspected the distribution of each char from 4c, seems pretty similar"
   ]
  },
  {
   "cell_type": "markdown",
   "id": "47f9e551-03d0-4f5f-a10a-b3a90677cd97",
   "metadata": {},
   "source": [
    "#### 4c. Fitting Gaussian\n",
    "\n",
    "Gaussians accessible through Classifier.gaussians"
   ]
  },
  {
   "cell_type": "code",
   "execution_count": 7,
   "id": "cf623fe2-c506-4874-ba18-1b953140720a",
   "metadata": {
    "tags": []
   },
   "outputs": [],
   "source": [
    "class Classifier:\n",
    "    \n",
    "    def __init__(self, x, y, c=0):\n",
    "        #c for playing with the smoothing\n",
    "        self.c = c\n",
    "        \n",
    "        self.x = x\n",
    "        self.y = y\n",
    "        self.calculate_class_distribution()\n",
    "        self.bin_by_class()\n",
    "        self.fit_gaussians()\n",
    "        \n",
    "    def calculate_class_distribution(self):\n",
    "        char_counts = {i:0 for i in range(10)}\n",
    "        for char in self.y:\n",
    "            char_counts[char] += 1\n",
    "\n",
    "        self.p = {char:count/len(self.y) for char, count in char_counts.items()}\n",
    "        \n",
    "    \n",
    "    def bin_by_class(self):\n",
    "        classes = {i:[] for i in range(10)}\n",
    "\n",
    "        for char, data in zip(self.y,self.x):\n",
    "            classes[char].append(data)\n",
    "\n",
    "        self.classes = {char:np.array(data) for char, data in classes.items()}\n",
    "    \n",
    "    def fit_gaussians(self):\n",
    "        gaussians = {}\n",
    "        for char in range(10):\n",
    "            data = self.classes[char]\n",
    "            mean = np.mean(data, axis=0)\n",
    "            cov = self.c*np.identity(784) + np.cov(data, rowvar=0)\n",
    "            g = sc.multivariate_normal(mean=mean, cov=cov, allow_singular=True)\n",
    "            gaussians[char] = g\n",
    "        self.gaussians = gaussians\n",
    "    \n",
    "    \n",
    "    def predict(self, data, return_scores=False):\n",
    "        scores = {}\n",
    "        for char in range(10):\n",
    "            scores[char] = self.p[char] + self.gaussians[char].logpdf(data)\n",
    "            \n",
    "        if return_scores:\n",
    "            return scores\n",
    "        else:\n",
    "            vals = list(scores.values())\n",
    "            return vals.index(np.max(vals))"
   ]
  },
  {
   "cell_type": "code",
   "execution_count": 8,
   "id": "20ed8da1-32e2-463f-a6cf-ac73c87de7f3",
   "metadata": {},
   "outputs": [],
   "source": [
    "model = Classifier(train_x,train_y)\n",
    "# model.gaussians"
   ]
  },
  {
   "cell_type": "markdown",
   "id": "d7098e8b-a7d8-4911-9283-af55c0d8f9a6",
   "metadata": {
    "tags": []
   },
   "source": [
    "#### 4d. Smoothing"
   ]
  },
  {
   "cell_type": "markdown",
   "id": "32b2465f-e607-4c0d-95f0-32728daeb916",
   "metadata": {},
   "source": [
    "Due to how long it takes to evaluate the test results, trial and error was used to iteratively downselect values of c with the following code:\n",
    "\n",
    "```\n",
    "miscalls_by_c = {}\n",
    "for c in C_VALUES:\n",
    "    model = classifier(train_x, train_y, c=c)\n",
    "    miscalls = 0\n",
    "    for i,y in enumerate(val_y):\n",
    "        if model.predict(val_x[i]) != y:\n",
    "            miscalls += 1\n",
    "    miscalls_by_c[c] = miscalls\n",
    "    \n",
    "miscalls_by_c\n",
    "```\n",
    "\n",
    "Here are the results I got:"
   ]
  },
  {
   "cell_type": "code",
   "execution_count": 9,
   "id": "85831125-d99d-41e8-863f-ded6bb39ed3d",
   "metadata": {},
   "outputs": [],
   "source": [
    "tested = {\n",
    "    0.001: 2416,\n",
    "    1: 1629,\n",
    "    2: 1486,\n",
    "    10: 1225,\n",
    "    50: 912,\n",
    "    100: 783,\n",
    "    200: 672,\n",
    "    250: 639,\n",
    "    1000: 471,\n",
    "    2000: 426,\n",
    "    3162: 411,\n",
    "    4000: 415,\n",
    "    5000: 415,\n",
    "    9000: 468,\n",
    "    10000: 487,\n",
    "    1000000: 2957,\n",
    "}"
   ]
  },
  {
   "cell_type": "code",
   "execution_count": 10,
   "id": "ff6ace74-be06-4bd8-b221-3d3c21a6f50a",
   "metadata": {},
   "outputs": [],
   "source": [
    "df = pd.DataFrame.from_dict(tested,orient='index')\\\n",
    "    .reset_index()\\\n",
    "    .rename(columns={'index':'c',0:'# Errors'})\n",
    "df['log(c)'] = [math.log(i) for i in df.c]"
   ]
  },
  {
   "cell_type": "markdown",
   "id": "dd540c4f-ed55-47bf-bf70-ece9bcdad3ce",
   "metadata": {},
   "source": [
    "To find a reasonable minimum, plotted the values on a log x-axis and calculated 3162 from 10\\*\\*3.5 (halfway point between 1k and 10k)."
   ]
  },
  {
   "cell_type": "code",
   "execution_count": 22,
   "id": "8f541fac-8228-4091-b346-033a27a5d521",
   "metadata": {},
   "outputs": [],
   "source": [
    "import matplotlib.pyplot as plt"
   ]
  },
  {
   "cell_type": "markdown",
   "id": "d305a1df-12fc-44f2-9574-caa4ca61dd50",
   "metadata": {},
   "source": [
    "Until the minimum, the function behaves like exponential decay, then becomes logarithmic."
   ]
  },
  {
   "cell_type": "code",
   "execution_count": 55,
   "id": "03baee82-f913-4120-b81d-6d870293b39a",
   "metadata": {
    "jupyter": {
     "source_hidden": true
    },
    "tags": []
   },
   "outputs": [
    {
     "data": {
      "text/plain": [
       "Text(0, 0.5, '# Miscalls')"
      ]
     },
     "execution_count": 55,
     "metadata": {},
     "output_type": "execute_result"
    },
    {
     "data": {
      "image/png": "[encoded data removed]",
      "text/plain": [
       "<Figure size 1440x720 with 2 Axes>"
      ]
     },
     "metadata": {
      "needs_background": "light"
     },
     "output_type": "display_data"
    }
   ],
   "source": [
    "fig, ax = plt.subplots(nrows=2, figsize=(20,10))\n",
    "\n",
    "ax[0].plot(df.c,df['# Errors'])\n",
    "ax[0].set_xlabel('c')\n",
    "ax[0].set_ylabel('# Miscalls')\n",
    "ax[0].set_xlim([-500,50000])\n",
    "ax[0].set_ylim([-30,2500])\n",
    "\n",
    "ax[1].plot(df['log(c)'],df['# Errors'])\n",
    "ax[1].set_xlabel('log(c)')\n",
    "ax[1].set_ylabel('# Miscalls')"
   ]
  },
  {
   "cell_type": "markdown",
   "id": "8eccbb08-5603-4fea-9535-9048bac63e7d",
   "metadata": {},
   "source": [
    "To conclude, best value of c is 3162 for a ~4% error rate."
   ]
  },
  {
   "cell_type": "markdown",
   "id": "24c64a98-57e9-460c-bd4d-d15c8ce6cd0a",
   "metadata": {
    "tags": []
   },
   "source": [
    "#### 4e. Testing + Errors"
   ]
  },
  {
   "cell_type": "code",
   "execution_count": 13,
   "id": "9f90e9f6-f01e-46a3-bab9-f5c8380dd2ba",
   "metadata": {},
   "outputs": [],
   "source": [
    "# MNIST test set error rate: ~4%\n",
    "# 5 misclassified digits, their posterior probabilities"
   ]
  },
  {
   "cell_type": "code",
   "execution_count": 15,
   "id": "6d8ad56a-6f2f-4a03-8206-8b1513ad0707",
   "metadata": {},
   "outputs": [
    {
     "data": {
      "text/plain": [
       "'Model Accuracy: 95.76%'"
      ]
     },
     "execution_count": 15,
     "metadata": {},
     "output_type": "execute_result"
    }
   ],
   "source": [
    "model = Classifier(train_x, train_y, c=3162)\n",
    "miscalls = []\n",
    "for i,y in enumerate(test_y):\n",
    "    if (prediction := model.predict(test_x[i])) != y:\n",
    "        miscalls.append(i)\n",
    "        \n",
    "error = len(miscalls)/len(test_y)\n",
    "\n",
    "f'Model Accuracy: {100*(1-error)}%'"
   ]
  },
  {
   "cell_type": "markdown",
   "id": "fe89c4ae-248a-4ebc-b061-9b4504cac8af",
   "metadata": {},
   "source": [
    "#### Posterior Probabilities\n",
    "\n",
    "Per [this forum](https://stats.stackexchange.com/questions/323135/how-to-normalize-log-likelihoods) it is not possible to calculate the weighted likelihood from logarithmic probabilities. As I am not math-savvy, I will trust this.\n",
    "\n",
    "So to calculate the posterior probability:\n",
    "\n",
    "$$\n",
    "Pr(char=j | Classifier=j) = \\frac{Pr(char=j)Pr(Classifier=j|char=j)}{Pr(Classifier=j)}\n",
    "$$\n",
    "\n",
    "Pr(char=j) is given from Classifier.p\\[j\\]\n",
    "\n",
    "Pr(Classifier=j | char=j) = success rate = 0.9576\n",
    "\n",
    "$$\n",
    "Pr(Classifier=j) = Pr(char=j) \\cdot Pr(Classifier=j|char=j) + Pr(char \\neq j) \\cdot Pr(Classifer=j|char \\neq j)\n",
    "$$\n",
    "\n",
    "Pr(char != j) = 1 - Pr(char = j)\n",
    "\n",
    "Pr(Classifier=j | char != j) = 1 - Pr(Classifier=j | char=j)"
   ]
  },
  {
   "cell_type": "code",
   "execution_count": 16,
   "id": "b6204b58-ed8c-42c8-aafe-886382dfd326",
   "metadata": {},
   "outputs": [],
   "source": [
    "def calc_Bayes(char, char_p, model_accuracy=0.9576):\n",
    "    numerator = char_p*model_accuracy\n",
    "    denominator = char_p*model_accuracy + (1-char_p)*(1-model_accuracy)\n",
    "    return numerator/denominator"
   ]
  },
  {
   "cell_type": "markdown",
   "id": "d15d3f4b-157e-46f4-b7dc-9f6a686de7ba",
   "metadata": {},
   "source": [
    "*Using this implementation*, the posterior probabilities are independent of the model scores "
   ]
  },
  {
   "cell_type": "code",
   "execution_count": 17,
   "id": "8422c71f-6295-4919-bc5f-8bff8e973059",
   "metadata": {},
   "outputs": [
    {
     "name": "stdout",
     "output_type": "stream",
     "text": [
      "Posterior Probability of 0 = 0.7119459617993181\n",
      "Posterior Probability of 1 = 0.7431488605708167\n",
      "Posterior Probability of 2 = 0.7135984962665863\n",
      "Posterior Probability of 3 = 0.7195645912625048\n",
      "Posterior Probability of 4 = 0.7085440854430474\n",
      "Posterior Probability of 5 = 0.6910667501701504\n",
      "Posterior Probability of 6 = 0.7128201729528127\n",
      "Posterior Probability of 7 = 0.7227923502368673\n",
      "Posterior Probability of 8 = 0.7077419074376547\n",
      "Posterior Probability of 9 = 0.714509532480513\n"
     ]
    }
   ],
   "source": [
    "for char in range(10):\n",
    "    p = calc_Bayes(char=char,char_p=model.p[char])\n",
    "    print(f'Posterior Probability of {str(char)} = {str(p)}')"
   ]
  }
 ],
 "metadata": {
  "kernelspec": {
   "display_name": "Python 3 (ipykernel)",
   "language": "python",
   "name": "python3"
  },
  "language_info": {
   "codemirror_mode": {
    "name": "ipython",
    "version": 3
   },
   "file_extension": ".py",
   "mimetype": "text/x-python",
   "name": "python",
   "nbconvert_exporter": "python",
   "pygments_lexer": "ipython3",
   "version": "3.10.0"
  }
 },
 "nbformat": 4,
 "nbformat_minor": 5
}
